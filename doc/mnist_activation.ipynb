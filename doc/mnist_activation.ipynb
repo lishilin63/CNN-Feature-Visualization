{
 "cells": [
  {
   "cell_type": "markdown",
   "metadata": {},
   "source": [
    "# Part I (a) MNIST Model Visualization "
   ]
  },
  {
   "cell_type": "markdown",
   "metadata": {},
   "source": [
    "The MNIST model is constructed using keras. \n",
    "The model is composed of 2 convolutional layers, and the test accuracy achieves ~99%.  \n",
    "This model refenreced Raghavendra Kotikalapudi's [official example for keras-vis package](https://github.com/raghakot/keras-vis/blob/master/examples/mnist/activation_maximization.ipynb)[3]."
   ]
  },
  {
   "cell_type": "code",
   "execution_count": 1,
   "metadata": {},
   "outputs": [
    {
     "name": "stderr",
     "output_type": "stream",
     "text": [
      "/Users/MichelleZhu/anaconda3/lib/python3.6/site-packages/h5py/__init__.py:34: FutureWarning: Conversion of the second argument of issubdtype from `float` to `np.floating` is deprecated. In future, it will be treated as `np.float64 == np.dtype(float).type`.\n",
      "  from ._conv import register_converters as _register_converters\n",
      "Using TensorFlow backend.\n"
     ]
    }
   ],
   "source": [
    "from __future__ import print_function\n",
    "\n",
    "import numpy as np\n",
    "import keras\n",
    "\n",
    "from keras.datasets import mnist\n",
    "from keras.models import Sequential, Model\n",
    "from keras.layers import Dense, Dropout, Flatten, Activation, Input\n",
    "from keras.layers import Conv2D, MaxPooling2D\n",
    "from keras import backend as K\n"
   ]
  },
  {
   "cell_type": "markdown",
   "metadata": {},
   "source": [
    "***To save time and capacity You can skip the next two blocks and draw the trained model from our git repo.***"
   ]
  },
  {
   "cell_type": "code",
   "execution_count": 2,
   "metadata": {},
   "outputs": [
    {
     "name": "stdout",
     "output_type": "stream",
     "text": [
      "Downloading data from https://s3.amazonaws.com/img-datasets/mnist.npz\n",
      "11493376/11490434 [==============================] - 0s 0us/step\n",
      "x_train shape: (60000, 28, 28, 1)\n",
      "60000 train samples\n",
      "10000 test samples\n"
     ]
    }
   ],
   "source": [
    "batch_size = 128\n",
    "num_classes = 10\n",
    "epochs = 5\n",
    "\n",
    "# input image dimensions\n",
    "img_rows, img_cols = 28, 28\n",
    "\n",
    "# the data, shuffled and split between train and test sets\n",
    "(x_train, y_train), (x_test, y_test) = mnist.load_data()\n",
    "\n",
    "if K.image_data_format() == 'channels_first':\n",
    "    x_train = x_train.reshape(x_train.shape[0], 1, img_rows, img_cols)\n",
    "    x_test = x_test.reshape(x_test.shape[0], 1, img_rows, img_cols)\n",
    "    input_shape = (1, img_rows, img_cols)\n",
    "else:\n",
    "    x_train = x_train.reshape(x_train.shape[0], img_rows, img_cols, 1)\n",
    "    x_test = x_test.reshape(x_test.shape[0], img_rows, img_cols, 1)\n",
    "    input_shape = (img_rows, img_cols, 1)\n",
    "\n",
    "x_train = x_train.astype('float32')\n",
    "x_test = x_test.astype('float32')\n",
    "x_train /= 255\n",
    "x_test /= 255\n",
    "print('x_train shape:', x_train.shape)\n",
    "print(x_train.shape[0], 'train samples')\n",
    "print(x_test.shape[0], 'test samples')"
   ]
  },
  {
   "cell_type": "code",
   "execution_count": 3,
   "metadata": {},
   "outputs": [
    {
     "name": "stdout",
     "output_type": "stream",
     "text": [
      "Train on 60000 samples, validate on 10000 samples\n",
      "Epoch 1/5\n",
      "60000/60000 [==============================] - 98s 2ms/step - loss: 0.2346 - acc: 0.9276 - val_loss: 0.0531 - val_acc: 0.9826\n",
      "Epoch 2/5\n",
      "60000/60000 [==============================] - 98s 2ms/step - loss: 0.0840 - acc: 0.9743 - val_loss: 0.0471 - val_acc: 0.9844\n",
      "Epoch 3/5\n",
      "60000/60000 [==============================] - 93s 2ms/step - loss: 0.0614 - acc: 0.9816 - val_loss: 0.0296 - val_acc: 0.9902\n",
      "Epoch 4/5\n",
      "60000/60000 [==============================] - 92s 2ms/step - loss: 0.0505 - acc: 0.9844 - val_loss: 0.0330 - val_acc: 0.9892\n",
      "Epoch 5/5\n",
      "60000/60000 [==============================] - 93s 2ms/step - loss: 0.0430 - acc: 0.9862 - val_loss: 0.0282 - val_acc: 0.9908\n",
      "Test loss: 0.02823972630938515\n",
      "Test accuracy: 0.9908\n"
     ]
    }
   ],
   "source": [
    "# convert class vectors to binary class matrices\n",
    "y_train = keras.utils.to_categorical(y_train, num_classes)\n",
    "y_test = keras.utils.to_categorical(y_test, num_classes)\n",
    "\n",
    "model = Sequential()\n",
    "model.add(Conv2D(32, kernel_size=(3, 3),\n",
    "                 activation='relu',\n",
    "                 input_shape=input_shape))\n",
    "model.add(Conv2D(64, (3, 3), activation='relu'))\n",
    "model.add(MaxPooling2D(pool_size=(2, 2)))\n",
    "model.add(Dropout(0.25))\n",
    "model.add(Flatten())\n",
    "model.add(Dense(128, activation='relu'))\n",
    "model.add(Dropout(0.5))\n",
    "model.add(Dense(num_classes, activation='softmax', name='preds'))\n",
    "\n",
    "model.compile(loss=keras.losses.categorical_crossentropy,\n",
    "              optimizer=keras.optimizers.Adam(),\n",
    "              metrics=['accuracy'])\n",
    "\n",
    "model.fit(x_train, y_train,\n",
    "          batch_size=batch_size,\n",
    "          epochs=epochs,\n",
    "          verbose=1,\n",
    "          validation_data=(x_test, y_test))\n",
    "\n",
    "score = model.evaluate(x_test, y_test, verbose=0)\n",
    "print('Test loss:', score[0])\n",
    "print('Test accuracy:', score[1])"
   ]
  },
  {
   "cell_type": "code",
   "execution_count": 4,
   "metadata": {
    "collapsed": true
   },
   "outputs": [],
   "source": [
    "model.save('mnist_train_model.h5')"
   ]
  },
  {
   "cell_type": "code",
   "execution_count": 2,
   "metadata": {
    "collapsed": true
   },
   "outputs": [],
   "source": [
    "from keras.models import load_model\n",
    "\n",
    "model = load_model('/Users/MichelleZhu/Documents/GitHub/CNN-Feature-Visualization/doc/mnist_train_model.h5')"
   ]
  },
  {
   "cell_type": "markdown",
   "metadata": {},
   "source": [
    "## Summary of the MNIST model\n",
    "\n",
    "The MNIST model with 2 convolutional layer predicts the hand-written digit input picture to a most likely digit from 0 to 9. Besides of that, a max-pooling layer and two dropout layer are added after the first two convolutional layer. It was Trained on 60000 samples, validated on 10000 samples. Finally 5 epoch got 0.9908 test accuracy.\n",
    "\n",
    "The last dense layer named \"Preds\" is constructed using softmax with 10 outputs, each reperents the possibility of a digit from 0 to 9. \n"
   ]
  },
  {
   "cell_type": "code",
   "execution_count": 3,
   "metadata": {},
   "outputs": [
    {
     "name": "stdout",
     "output_type": "stream",
     "text": [
      "_________________________________________________________________\n",
      "Layer (type)                 Output Shape              Param #   \n",
      "=================================================================\n",
      "conv2d_1 (Conv2D)            (None, 26, 26, 32)        320       \n",
      "_________________________________________________________________\n",
      "conv2d_2 (Conv2D)            (None, 24, 24, 64)        18496     \n",
      "_________________________________________________________________\n",
      "max_pooling2d_1 (MaxPooling2 (None, 12, 12, 64)        0         \n",
      "_________________________________________________________________\n",
      "dropout_1 (Dropout)          (None, 12, 12, 64)        0         \n",
      "_________________________________________________________________\n",
      "flatten_1 (Flatten)          (None, 9216)              0         \n",
      "_________________________________________________________________\n",
      "dense_1 (Dense)              (None, 128)               1179776   \n",
      "_________________________________________________________________\n",
      "dropout_2 (Dropout)          (None, 128)               0         \n",
      "_________________________________________________________________\n",
      "preds (Dense)                (None, 10)                1290      \n",
      "=================================================================\n",
      "Total params: 1,199,882\n",
      "Trainable params: 1,199,882\n",
      "Non-trainable params: 0\n",
      "_________________________________________________________________\n"
     ]
    }
   ],
   "source": [
    "model.summary()"
   ]
  },
  {
   "cell_type": "markdown",
   "metadata": {},
   "source": [
    "## Dense Layer Visualization\n",
    "The MNIST data set is in grey scale, which does not concern classifications of colors and shapes, so we only perform feature visualize by optimization on the last dense layer.\n",
    "\n",
    "**Command line to install the keras-vis package: ** pip install git+git://github.com/raghakot/keras-vis.git --upgrade --no-deps\n",
    "\n",
    "As suggested by the [official document](https://github.com/raghakot/keras-vis/blob/master/examples/mnist/activation_maximization.ipynb) the 'softmax' need to be converted to 'linear' at the last layer. Otherwise, there will be problem of suboptimal.\n",
    "\n",
    "## Step 1: Visualizing input that maximizes the output of node 0\n"
   ]
  },
  {
   "cell_type": "code",
   "execution_count": 13,
   "metadata": {
    "collapsed": true
   },
   "outputs": [],
   "source": [
    "from vis.visualization import visualize_activation\n",
    "from vis.visualization import get_num_filters\n",
    "from vis.utils import utils\n",
    "from keras import activations\n",
    "\n",
    "from matplotlib import pyplot as plt\n",
    "%matplotlib inline\n"
   ]
  },
  {
   "cell_type": "code",
   "execution_count": 27,
   "metadata": {},
   "outputs": [
    {
     "data": {
      "text/plain": [
       "10"
      ]
     },
     "execution_count": 27,
     "metadata": {},
     "output_type": "execute_result"
    }
   ],
   "source": [
    "#In Last Dense layer, get the total number of output\n",
    "get_num_filters(model.layers[7])"
   ]
  },
  {
   "cell_type": "code",
   "execution_count": 8,
   "metadata": {},
   "outputs": [
    {
     "data": {
      "text/plain": [
       "<matplotlib.image.AxesImage at 0x1c279fed30>"
      ]
     },
     "execution_count": 8,
     "metadata": {},
     "output_type": "execute_result"
    },
    {
     "data": {
      "image/png": "[encoded data removed]",
      "text/plain": [
       "<Figure size 1296x432 with 1 Axes>"
      ]
     },
     "metadata": {},
     "output_type": "display_data"
    }
   ],
   "source": [
    "plt.rcParams['figure.figsize'] = (18, 6)\n",
    "\n",
    "# Utility to search for layer index by name. \n",
    "# Alternatively we can specify this as -1 since it corresponds to the last layer.\n",
    "layer_idx = utils.find_layer_idx(model, 'preds')\n",
    "\n",
    "# Swap softmax with linear\n",
    "model.layers[layer_idx].activation = activations.linear\n",
    "model = utils.apply_modifications(model)\n",
    "\n",
    "# This is the output node we want to maximize.\n",
    "filter_idx = 0\n",
    "img = visualize_activation(model, layer_idx, filter_indices=filter_idx)\n",
    "plt.imshow(img[..., 0])"
   ]
  },
  {
   "cell_type": "code",
   "execution_count": 9,
   "metadata": {},
   "outputs": [
    {
     "name": "stdout",
     "output_type": "stream",
     "text": [
      "7\n"
     ]
    }
   ],
   "source": [
    "print(layer_idx)"
   ]
  },
  {
   "cell_type": "markdown",
   "metadata": {},
   "source": [
    "### Insights on the first try of node 0 feature visualization: \n",
    "By seting **filter_indices = 0**, the visualization of node 0 maximized the input so that final output. However it does not look like a zero. So we need to do the following two steps to optimize the input:\n",
    "* **Input range :** the preprocess range by defualt is (0,1), we should change the input range and specify between **(0.,1.)** (float type)\n",
    "* **Regularization Parameter :** The Regularization Parameter default weights might be dominating activation maximization loss weight. One way to debug this is to use **verbose=True** and examine individual loss values."
   ]
  },
  {
   "cell_type": "markdown",
   "metadata": {},
   "source": [
    "## Step 2: Specifying the Input Range"
   ]
  },
  {
   "cell_type": "markdown",
   "metadata": {},
   "source": [
    "Set the input_range = (0.,1.), and then visualize the node 0 input image again."
   ]
  },
  {
   "cell_type": "code",
   "execution_count": 10,
   "metadata": {},
   "outputs": [
    {
     "data": {
      "text/plain": [
       "<matplotlib.image.AxesImage at 0x1c2beb8438>"
      ]
     },
     "execution_count": 10,
     "metadata": {},
     "output_type": "execute_result"
    },
    {
     "data": {
      "image/png": "[encoded data removed]",
      "text/plain": [
       "<Figure size 1296x432 with 1 Axes>"
      ]
     },
     "metadata": {},
     "output_type": "display_data"
    }
   ],
   "source": [
    "img = visualize_activation(model, layer_idx, filter_indices=filter_idx, input_range=(0., 1.))\n",
    "plt.imshow(img[..., 0])"
   ]
  },
  {
   "cell_type": "markdown",
   "metadata": {},
   "source": [
    "Here we can see that the input image has much less noise than the one without specifying the input range "
   ]
  },
  {
   "cell_type": "markdown",
   "metadata": {},
   "source": [
    "## Step 3: Tuning regularization weights\n",
    "\n",
    "The activation maximization function has a issue that the optimized input can go out of the traning distribution space. Total variation in the function ensures that the input images are blobber and not scattered, so that the pattern in the image can be recognized. The problem is sometimes the total variation and L-p norm can dominante the main Activation Maximization loss. \n",
    "\n",
    "Lets see what individual losses are, with verbose=True"
   ]
  },
  {
   "cell_type": "code",
   "execution_count": 11,
   "metadata": {},
   "outputs": [
    {
     "name": "stdout",
     "output_type": "stream",
     "text": [
      "Iteration: 1, named_losses: [('ActivationMax Loss', -0.16939992),\n",
      " ('L-6.0 Norm Loss', 0.019829458),\n",
      " ('TV(2.0) Loss', 0.095013484)], overall loss: -0.05455698072910309\n",
      "Iteration: 2, named_losses: [('ActivationMax Loss', -78.88112),\n",
      " ('L-6.0 Norm Loss', 0.17227083),\n",
      " ('TV(2.0) Loss', 490.14194)], overall loss: 411.43310546875\n",
      "Iteration: 3, named_losses: [('ActivationMax Loss', -215.9466),\n",
      " ('L-6.0 Norm Loss', 0.20538463),\n",
      " ('TV(2.0) Loss', 194.44786)], overall loss: -21.293350219726562\n",
      "Iteration: 4, named_losses: [('ActivationMax Loss', -320.78104),\n",
      " ('L-6.0 Norm Loss', 0.21546638),\n",
      " ('TV(2.0) Loss', 179.79845)], overall loss: -140.7671356201172\n",
      "Iteration: 5, named_losses: [('ActivationMax Loss', -424.22668),\n",
      " ('L-6.0 Norm Loss', 0.23633803),\n",
      " ('TV(2.0) Loss', 198.54694)], overall loss: -225.44342041015625\n",
      "Iteration: 6, named_losses: [('ActivationMax Loss', -509.18906),\n",
      " ('L-6.0 Norm Loss', 0.25792384),\n",
      " ('TV(2.0) Loss', 217.37494)], overall loss: -291.5561828613281\n",
      "Iteration: 7, named_losses: [('ActivationMax Loss', -585.27374),\n",
      " ('L-6.0 Norm Loss', 0.28971106),\n",
      " ('TV(2.0) Loss', 246.26688)], overall loss: -338.7171325683594\n",
      "Iteration: 8, named_losses: [('ActivationMax Loss', -651.6722),\n",
      " ('L-6.0 Norm Loss', 0.3128112),\n",
      " ('TV(2.0) Loss', 270.95566)], overall loss: -380.4037170410156\n",
      "Iteration: 9, named_losses: [('ActivationMax Loss', -710.23596),\n",
      " ('L-6.0 Norm Loss', 0.33867994),\n",
      " ('TV(2.0) Loss', 293.26282)], overall loss: -416.63446044921875\n",
      "Iteration: 10, named_losses: [('ActivationMax Loss', -763.8305),\n",
      " ('L-6.0 Norm Loss', 0.36118832),\n",
      " ('TV(2.0) Loss', 323.74976)], overall loss: -439.71954345703125\n",
      "Iteration: 11, named_losses: [('ActivationMax Loss', -812.5422),\n",
      " ('L-6.0 Norm Loss', 0.3840515),\n",
      " ('TV(2.0) Loss', 344.87833)], overall loss: -467.2798156738281\n",
      "Iteration: 12, named_losses: [('ActivationMax Loss', -861.5991),\n",
      " ('L-6.0 Norm Loss', 0.4060173),\n",
      " ('TV(2.0) Loss', 374.82767)], overall loss: -486.3654479980469\n",
      "Iteration: 13, named_losses: [('ActivationMax Loss', -900.6941),\n",
      " ('L-6.0 Norm Loss', 0.42722943),\n",
      " ('TV(2.0) Loss', 392.45877)], overall loss: -507.8080749511719\n",
      "Iteration: 14, named_losses: [('ActivationMax Loss', -938.7196),\n",
      " ('L-6.0 Norm Loss', 0.44574264),\n",
      " ('TV(2.0) Loss', 415.23312)], overall loss: -523.040771484375\n",
      "Iteration: 15, named_losses: [('ActivationMax Loss', -969.0039),\n",
      " ('L-6.0 Norm Loss', 0.4644854),\n",
      " ('TV(2.0) Loss', 427.09665)], overall loss: -541.4427490234375\n",
      "Iteration: 16, named_losses: [('ActivationMax Loss', -994.74426),\n",
      " ('L-6.0 Norm Loss', 0.48177922),\n",
      " ('TV(2.0) Loss', 442.01425)], overall loss: -552.248291015625\n",
      "Iteration: 17, named_losses: [('ActivationMax Loss', -1023.1764),\n",
      " ('L-6.0 Norm Loss', 0.5014146),\n",
      " ('TV(2.0) Loss', 454.28625)], overall loss: -568.3887329101562\n",
      "Iteration: 18, named_losses: [('ActivationMax Loss', -1045.219),\n",
      " ('L-6.0 Norm Loss', 0.51644486),\n",
      " ('TV(2.0) Loss', 464.69003)], overall loss: -580.012451171875\n",
      "Iteration: 19, named_losses: [('ActivationMax Loss', -1070.8491),\n",
      " ('L-6.0 Norm Loss', 0.5349846),\n",
      " ('TV(2.0) Loss', 472.3952)], overall loss: -597.9188842773438\n",
      "Iteration: 20, named_losses: [('ActivationMax Loss', -1092.1116),\n",
      " ('L-6.0 Norm Loss', 0.55316985),\n",
      " ('TV(2.0) Loss', 484.60757)], overall loss: -606.9508056640625\n",
      "Iteration: 21, named_losses: [('ActivationMax Loss', -1117.0479),\n",
      " ('L-6.0 Norm Loss', 0.57253283),\n",
      " ('TV(2.0) Loss', 493.58463)], overall loss: -622.8907470703125\n",
      "Iteration: 22, named_losses: [('ActivationMax Loss', -1139.2278),\n",
      " ('L-6.0 Norm Loss', 0.59113604),\n",
      " ('TV(2.0) Loss', 504.08307)], overall loss: -634.5535278320312\n",
      "Iteration: 23, named_losses: [('ActivationMax Loss', -1167.6746),\n",
      " ('L-6.0 Norm Loss', 0.60915506),\n",
      " ('TV(2.0) Loss', 521.34)], overall loss: -645.7254028320312\n",
      "Iteration: 24, named_losses: [('ActivationMax Loss', -1190.8159),\n",
      " ('L-6.0 Norm Loss', 0.62659913),\n",
      " ('TV(2.0) Loss', 536.5548)], overall loss: -653.634521484375\n",
      "Iteration: 25, named_losses: [('ActivationMax Loss', -1213.1794),\n",
      " ('L-6.0 Norm Loss', 0.6420459),\n",
      " ('TV(2.0) Loss', 546.69)], overall loss: -665.8473510742188\n",
      "Iteration: 26, named_losses: [('ActivationMax Loss', -1233.5828),\n",
      " ('L-6.0 Norm Loss', 0.65798336),\n",
      " ('TV(2.0) Loss', 557.1823)], overall loss: -675.7424926757812\n",
      "Iteration: 27, named_losses: [('ActivationMax Loss', -1257.8948),\n",
      " ('L-6.0 Norm Loss', 0.6721529),\n",
      " ('TV(2.0) Loss', 569.51514)], overall loss: -687.70751953125\n",
      "Iteration: 28, named_losses: [('ActivationMax Loss', -1277.4673),\n",
      " ('L-6.0 Norm Loss', 0.6867769),\n",
      " ('TV(2.0) Loss', 579.7544)], overall loss: -697.026123046875\n",
      "Iteration: 29, named_losses: [('ActivationMax Loss', -1296.7963),\n",
      " ('L-6.0 Norm Loss', 0.7006452),\n",
      " ('TV(2.0) Loss', 592.0751)], overall loss: -704.0205078125\n",
      "Iteration: 30, named_losses: [('ActivationMax Loss', -1310.383),\n",
      " ('L-6.0 Norm Loss', 0.7138361),\n",
      " ('TV(2.0) Loss', 600.1487)], overall loss: -709.5205078125\n",
      "Iteration: 31, named_losses: [('ActivationMax Loss', -1324.0751),\n",
      " ('L-6.0 Norm Loss', 0.7265642),\n",
      " ('TV(2.0) Loss', 608.5852)], overall loss: -714.7633056640625\n",
      "Iteration: 32, named_losses: [('ActivationMax Loss', -1334.0496),\n",
      " ('L-6.0 Norm Loss', 0.73921055),\n",
      " ('TV(2.0) Loss', 612.40326)], overall loss: -720.9070434570312\n",
      "Iteration: 33, named_losses: [('ActivationMax Loss', -1352.4624),\n",
      " ('L-6.0 Norm Loss', 0.75339764),\n",
      " ('TV(2.0) Loss', 626.10645)], overall loss: -725.6025390625\n",
      "Iteration: 34, named_losses: [('ActivationMax Loss', -1361.057),\n",
      " ('L-6.0 Norm Loss', 0.7649564),\n",
      " ('TV(2.0) Loss', 628.35)], overall loss: -731.9420166015625\n",
      "Iteration: 35, named_losses: [('ActivationMax Loss', -1378.8295),\n",
      " ('L-6.0 Norm Loss', 0.7781328),\n",
      " ('TV(2.0) Loss', 642.6582)], overall loss: -735.3931884765625\n",
      "Iteration: 36, named_losses: [('ActivationMax Loss', -1386.8346),\n",
      " ('L-6.0 Norm Loss', 0.79011625),\n",
      " ('TV(2.0) Loss', 644.48206)], overall loss: -741.5623779296875\n",
      "Iteration: 37, named_losses: [('ActivationMax Loss', -1399.8735),\n",
      " ('L-6.0 Norm Loss', 0.80432314),\n",
      " ('TV(2.0) Loss', 655.74884)], overall loss: -743.3203735351562\n",
      "Iteration: 38, named_losses: [('ActivationMax Loss', -1410.5947),\n",
      " ('L-6.0 Norm Loss', 0.8138574),\n",
      " ('TV(2.0) Loss', 661.35034)], overall loss: -748.4305419921875\n",
      "Iteration: 39, named_losses: [('ActivationMax Loss', -1422.0293),\n",
      " ('L-6.0 Norm Loss', 0.82693857),\n",
      " ('TV(2.0) Loss', 671.1932)], overall loss: -750.0092163085938\n",
      "Iteration: 40, named_losses: [('ActivationMax Loss', -1434.6676),\n",
      " ('L-6.0 Norm Loss', 0.8354434),\n",
      " ('TV(2.0) Loss', 676.8741)], overall loss: -756.9580688476562\n",
      "Iteration: 41, named_losses: [('ActivationMax Loss', -1444.0558),\n",
      " ('L-6.0 Norm Loss', 0.84850776),\n",
      " ('TV(2.0) Loss', 685.8195)], overall loss: -757.3877563476562\n",
      "Iteration: 42, named_losses: [('ActivationMax Loss', -1455.4581),\n",
      " ('L-6.0 Norm Loss', 0.85635084),\n",
      " ('TV(2.0) Loss', 691.47687)], overall loss: -763.1249389648438\n",
      "Iteration: 43, named_losses: [('ActivationMax Loss', -1462.9064),\n",
      " ('L-6.0 Norm Loss', 0.86604166),\n",
      " ('TV(2.0) Loss', 696.7502)], overall loss: -765.2901000976562\n",
      "Iteration: 44, named_losses: [('ActivationMax Loss', -1474.1156),\n",
      " ('L-6.0 Norm Loss', 0.8756824),\n",
      " ('TV(2.0) Loss', 703.6633)], overall loss: -769.5765380859375\n",
      "Iteration: 45, named_losses: [('ActivationMax Loss', -1480.1898),\n",
      " ('L-6.0 Norm Loss', 0.8854238),\n",
      " ('TV(2.0) Loss', 709.87115)], overall loss: -769.4332885742188\n",
      "Iteration: 46, named_losses: [('ActivationMax Loss', -1484.3195),\n",
      " ('L-6.0 Norm Loss', 0.89121455),\n",
      " ('TV(2.0) Loss', 710.3287)], overall loss: -773.0995483398438\n",
      "Iteration: 47, named_losses: [('ActivationMax Loss', -1495.5352),\n",
      " ('L-6.0 Norm Loss', 0.9023272),\n",
      " ('TV(2.0) Loss', 722.2681)], overall loss: -772.3646850585938\n",
      "Iteration: 48, named_losses: [('ActivationMax Loss', -1493.8535),\n",
      " ('L-6.0 Norm Loss', 0.9067845),\n",
      " ('TV(2.0) Loss', 716.09534)], overall loss: -776.8514404296875\n",
      "Iteration: 49, named_losses: [('ActivationMax Loss', -1504.9427),\n",
      " ('L-6.0 Norm Loss', 0.9157522),\n",
      " ('TV(2.0) Loss', 729.48413)], overall loss: -774.5428466796875\n",
      "Iteration: 50, named_losses: [('ActivationMax Loss', -1510.8779),\n",
      " ('L-6.0 Norm Loss', 0.9209261),\n",
      " ('TV(2.0) Loss', 730.2635)], overall loss: -779.6935424804688\n",
      "Iteration: 51, named_losses: [('ActivationMax Loss', -1517.589),\n",
      " ('L-6.0 Norm Loss', 0.9273454),\n",
      " ('TV(2.0) Loss', 739.3867)], overall loss: -777.27490234375\n",
      "Iteration: 52, named_losses: [('ActivationMax Loss', -1522.8599),\n",
      " ('L-6.0 Norm Loss', 0.93289363),\n",
      " ('TV(2.0) Loss', 739.7165)], overall loss: -782.2105102539062\n",
      "Iteration: 53, named_losses: [('ActivationMax Loss', -1526.45),\n",
      " ('L-6.0 Norm Loss', 0.9403594),\n",
      " ('TV(2.0) Loss', 746.7478)], overall loss: -778.7618408203125\n",
      "Iteration: 54, named_losses: [('ActivationMax Loss', -1532.9628),\n",
      " ('L-6.0 Norm Loss', 0.94444144),\n",
      " ('TV(2.0) Loss', 748.41815)], overall loss: -783.6001586914062\n",
      "Iteration: 55, named_losses: [('ActivationMax Loss', -1539.916),\n",
      " ('L-6.0 Norm Loss', 0.95185995),\n",
      " ('TV(2.0) Loss', 757.874)], overall loss: -781.090087890625\n",
      "Iteration: 56, named_losses: [('ActivationMax Loss', -1540.2007),\n",
      " ('L-6.0 Norm Loss', 0.95437455),\n",
      " ('TV(2.0) Loss', 754.10126)], overall loss: -785.1450805664062\n",
      "Iteration: 57, named_losses: [('ActivationMax Loss', -1548.7341),\n",
      " ('L-6.0 Norm Loss', 0.9613532),\n",
      " ('TV(2.0) Loss', 765.5992)], overall loss: -782.1736450195312\n",
      "Iteration: 58, named_losses: [('ActivationMax Loss', -1548.2643),\n",
      " ('L-6.0 Norm Loss', 0.9625037),\n",
      " ('TV(2.0) Loss', 760.6645)], overall loss: -786.6372680664062\n",
      "Iteration: 59, named_losses: [('ActivationMax Loss', -1556.8221),\n",
      " ('L-6.0 Norm Loss', 0.9690769),\n",
      " ('TV(2.0) Loss', 772.1519)], overall loss: -783.7011108398438\n",
      "Iteration: 60, named_losses: [('ActivationMax Loss', -1553.6252),\n",
      " ('L-6.0 Norm Loss', 0.97138304),\n",
      " ('TV(2.0) Loss', 765.5563)], overall loss: -787.0975341796875\n",
      "Iteration: 61, named_losses: [('ActivationMax Loss', -1563.4995),\n",
      " ('L-6.0 Norm Loss', 0.9756501),\n",
      " ('TV(2.0) Loss', 777.8825)], overall loss: -784.6412963867188\n",
      "Iteration: 62, named_losses: [('ActivationMax Loss', -1558.9539),\n",
      " ('L-6.0 Norm Loss', 0.97832054),\n",
      " ('TV(2.0) Loss', 770.1036)], overall loss: -787.8720092773438\n",
      "Iteration: 63, named_losses: [('ActivationMax Loss', -1567.1125),\n",
      " ('L-6.0 Norm Loss', 0.9823108),\n",
      " ('TV(2.0) Loss', 780.1727)], overall loss: -785.95751953125\n",
      "Iteration: 64, named_losses: [('ActivationMax Loss', -1562.4436),\n",
      " ('L-6.0 Norm Loss', 0.98438054),\n",
      " ('TV(2.0) Loss', 772.13934)], overall loss: -789.3198852539062\n",
      "Iteration: 65, named_losses: [('ActivationMax Loss', -1570.9292),\n",
      " ('L-6.0 Norm Loss', 0.988976),\n",
      " ('TV(2.0) Loss', 782.2019)], overall loss: -787.73828125\n",
      "Iteration: 66, named_losses: [('ActivationMax Loss', -1565.4949),\n",
      " ('L-6.0 Norm Loss', 0.991946),\n",
      " ('TV(2.0) Loss', 772.8467)], overall loss: -791.65625\n",
      "Iteration: 67, named_losses: [('ActivationMax Loss', -1573.9546),\n",
      " ('L-6.0 Norm Loss', 0.9950002),\n",
      " ('TV(2.0) Loss', 783.6194)], overall loss: -789.3402099609375\n",
      "Iteration: 68, named_losses: [('ActivationMax Loss', -1570.983),\n",
      " ('L-6.0 Norm Loss', 0.9971512),\n",
      " ('TV(2.0) Loss', 776.9467)], overall loss: -793.0391235351562\n",
      "Iteration: 69, named_losses: [('ActivationMax Loss', -1576.0378),\n",
      " ('L-6.0 Norm Loss', 0.99968594),\n",
      " ('TV(2.0) Loss', 782.9704)], overall loss: -792.0678100585938\n",
      "Iteration: 70, named_losses: [('ActivationMax Loss', -1571.0712),\n",
      " ('L-6.0 Norm Loss', 1.0023034),\n",
      " ('TV(2.0) Loss', 774.93365)], overall loss: -795.1351928710938\n",
      "Iteration: 71, named_losses: [('ActivationMax Loss', -1579.3501),\n",
      " ('L-6.0 Norm Loss', 1.0065306),\n",
      " ('TV(2.0) Loss', 785.0549)], overall loss: -793.2887573242188\n",
      "Iteration: 72, named_losses: [('ActivationMax Loss', -1575.1704),\n",
      " ('L-6.0 Norm Loss', 1.010028),\n",
      " ('TV(2.0) Loss', 778.133)], overall loss: -796.0274047851562\n",
      "Iteration: 73, named_losses: [('ActivationMax Loss', -1582.2275),\n",
      " ('L-6.0 Norm Loss', 1.0143008),\n",
      " ('TV(2.0) Loss', 786.98645)], overall loss: -794.226806640625\n",
      "Iteration: 74, named_losses: [('ActivationMax Loss', -1580.3153),\n",
      " ('L-6.0 Norm Loss', 1.01821),\n",
      " ('TV(2.0) Loss', 782.1072)], overall loss: -797.18994140625\n",
      "Iteration: 75, named_losses: [('ActivationMax Loss', -1584.5061),\n",
      " ('L-6.0 Norm Loss', 1.0205723),\n",
      " ('TV(2.0) Loss', 788.36035)], overall loss: -795.1251220703125\n",
      "Iteration: 76, named_losses: [('ActivationMax Loss', -1584.634),\n",
      " ('L-6.0 Norm Loss', 1.0276502),\n",
      " ('TV(2.0) Loss', 785.1571)], overall loss: -798.44921875\n",
      "Iteration: 77, named_losses: [('ActivationMax Loss', -1589.454),\n",
      " ('L-6.0 Norm Loss', 1.0293509),\n",
      " ('TV(2.0) Loss', 793.62396)], overall loss: -794.8007202148438\n",
      "Iteration: 78, named_losses: [('ActivationMax Loss', -1587.6073),\n",
      " ('L-6.0 Norm Loss', 1.031863),\n",
      " ('TV(2.0) Loss', 786.5147)], overall loss: -800.0607299804688\n",
      "Iteration: 79, named_losses: [('ActivationMax Loss', -1595.394),\n",
      " ('L-6.0 Norm Loss', 1.0361296),\n",
      " ('TV(2.0) Loss', 798.54297)], overall loss: -795.81494140625\n",
      "Iteration: 80, named_losses: [('ActivationMax Loss', -1593.1008),\n",
      " ('L-6.0 Norm Loss', 1.0422384),\n",
      " ('TV(2.0) Loss', 791.1099)], overall loss: -800.9486694335938\n",
      "Iteration: 81, named_losses: [('ActivationMax Loss', -1598.4325),\n",
      " ('L-6.0 Norm Loss', 1.0434211),\n",
      " ('TV(2.0) Loss', 797.1523)], overall loss: -800.2367553710938\n"
     ]
    },
    {
     "name": "stdout",
     "output_type": "stream",
     "text": [
      "Iteration: 82, named_losses: [('ActivationMax Loss', -1596.7812),\n",
      " ('L-6.0 Norm Loss', 1.0481691),\n",
      " ('TV(2.0) Loss', 793.7842)], overall loss: -801.9488525390625\n",
      "Iteration: 83, named_losses: [('ActivationMax Loss', -1602.5057),\n",
      " ('L-6.0 Norm Loss', 1.0500907),\n",
      " ('TV(2.0) Loss', 800.6406)], overall loss: -800.8150634765625\n",
      "Iteration: 84, named_losses: [('ActivationMax Loss', -1602.982),\n",
      " ('L-6.0 Norm Loss', 1.0559827),\n",
      " ('TV(2.0) Loss', 798.5863)], overall loss: -803.3397216796875\n",
      "Iteration: 85, named_losses: [('ActivationMax Loss', -1604.8064),\n",
      " ('L-6.0 Norm Loss', 1.0579965),\n",
      " ('TV(2.0) Loss', 802.51514)], overall loss: -801.2332763671875\n",
      "Iteration: 86, named_losses: [('ActivationMax Loss', -1609.566),\n",
      " ('L-6.0 Norm Loss', 1.064042),\n",
      " ('TV(2.0) Loss', 804.463)], overall loss: -804.0389404296875\n",
      "Iteration: 87, named_losses: [('ActivationMax Loss', -1607.3531),\n",
      " ('L-6.0 Norm Loss', 1.0680044),\n",
      " ('TV(2.0) Loss', 804.29755)], overall loss: -801.9876098632812\n",
      "Iteration: 88, named_losses: [('ActivationMax Loss', -1609.9027),\n",
      " ('L-6.0 Norm Loss', 1.0735317),\n",
      " ('TV(2.0) Loss', 803.6506)], overall loss: -805.1786499023438\n",
      "Iteration: 89, named_losses: [('ActivationMax Loss', -1611.1294),\n",
      " ('L-6.0 Norm Loss', 1.076701),\n",
      " ('TV(2.0) Loss', 806.89954)], overall loss: -803.1531982421875\n",
      "Iteration: 90, named_losses: [('ActivationMax Loss', -1614.0116),\n",
      " ('L-6.0 Norm Loss', 1.0837066),\n",
      " ('TV(2.0) Loss', 806.7874)], overall loss: -806.1404418945312\n",
      "Iteration: 91, named_losses: [('ActivationMax Loss', -1613.8457),\n",
      " ('L-6.0 Norm Loss', 1.0858964),\n",
      " ('TV(2.0) Loss', 809.6033)], overall loss: -803.156494140625\n",
      "Iteration: 92, named_losses: [('ActivationMax Loss', -1616.78),\n",
      " ('L-6.0 Norm Loss', 1.0913113),\n",
      " ('TV(2.0) Loss', 809.26843)], overall loss: -806.4202880859375\n",
      "Iteration: 93, named_losses: [('ActivationMax Loss', -1613.6248),\n",
      " ('L-6.0 Norm Loss', 1.0950357),\n",
      " ('TV(2.0) Loss', 809.9766)], overall loss: -802.5530395507812\n",
      "Iteration: 94, named_losses: [('ActivationMax Loss', -1614.3386),\n",
      " ('L-6.0 Norm Loss', 1.0999298),\n",
      " ('TV(2.0) Loss', 806.9492)], overall loss: -806.2894287109375\n",
      "Iteration: 95, named_losses: [('ActivationMax Loss', -1619.2986),\n",
      " ('L-6.0 Norm Loss', 1.1047268),\n",
      " ('TV(2.0) Loss', 815.4934)], overall loss: -802.700439453125\n",
      "Iteration: 96, named_losses: [('ActivationMax Loss', -1621.106),\n",
      " ('L-6.0 Norm Loss', 1.1090113),\n",
      " ('TV(2.0) Loss', 813.2268)], overall loss: -806.7701416015625\n",
      "Iteration: 97, named_losses: [('ActivationMax Loss', -1624.4407),\n",
      " ('L-6.0 Norm Loss', 1.1147567),\n",
      " ('TV(2.0) Loss', 820.8248)], overall loss: -802.5010986328125\n",
      "Iteration: 98, named_losses: [('ActivationMax Loss', -1624.942),\n",
      " ('L-6.0 Norm Loss', 1.1190561),\n",
      " ('TV(2.0) Loss', 817.3628)], overall loss: -806.460205078125\n",
      "Iteration: 99, named_losses: [('ActivationMax Loss', -1624.5299),\n",
      " ('L-6.0 Norm Loss', 1.1237907),\n",
      " ('TV(2.0) Loss', 819.5233)], overall loss: -803.8828125\n",
      "Iteration: 100, named_losses: [('ActivationMax Loss', -1624.135),\n",
      " ('L-6.0 Norm Loss', 1.1282492),\n",
      " ('TV(2.0) Loss', 815.4029)], overall loss: -807.6038208007812\n",
      "Iteration: 101, named_losses: [('ActivationMax Loss', -1626.6838),\n",
      " ('L-6.0 Norm Loss', 1.1337513),\n",
      " ('TV(2.0) Loss', 821.0406)], overall loss: -804.5094604492188\n",
      "Iteration: 102, named_losses: [('ActivationMax Loss', -1627.7522),\n",
      " ('L-6.0 Norm Loss', 1.1379601),\n",
      " ('TV(2.0) Loss', 819.0491)], overall loss: -807.565185546875\n",
      "Iteration: 103, named_losses: [('ActivationMax Loss', -1633.2834),\n",
      " ('L-6.0 Norm Loss', 1.1431779),\n",
      " ('TV(2.0) Loss', 827.3632)], overall loss: -804.7770385742188\n",
      "Iteration: 104, named_losses: [('ActivationMax Loss', -1629.0979),\n",
      " ('L-6.0 Norm Loss', 1.145898),\n",
      " ('TV(2.0) Loss', 820.7597)], overall loss: -807.1923217773438\n",
      "Iteration: 105, named_losses: [('ActivationMax Loss', -1633.8708),\n",
      " ('L-6.0 Norm Loss', 1.1520977),\n",
      " ('TV(2.0) Loss', 827.6212)], overall loss: -805.0975341796875\n",
      "Iteration: 106, named_losses: [('ActivationMax Loss', -1631.0815),\n",
      " ('L-6.0 Norm Loss', 1.1554595),\n",
      " ('TV(2.0) Loss', 821.9039)], overall loss: -808.0221557617188\n",
      "Iteration: 107, named_losses: [('ActivationMax Loss', -1633.5203),\n",
      " ('L-6.0 Norm Loss', 1.1600913),\n",
      " ('TV(2.0) Loss', 827.1018)], overall loss: -805.2584228515625\n",
      "Iteration: 108, named_losses: [('ActivationMax Loss', -1632.1143),\n",
      " ('L-6.0 Norm Loss', 1.1612595),\n",
      " ('TV(2.0) Loss', 822.5521)], overall loss: -808.40087890625\n",
      "Iteration: 109, named_losses: [('ActivationMax Loss', -1633.1488),\n",
      " ('L-6.0 Norm Loss', 1.1658473),\n",
      " ('TV(2.0) Loss', 826.89044)], overall loss: -805.0924682617188\n",
      "Iteration: 110, named_losses: [('ActivationMax Loss', -1636.4233),\n",
      " ('L-6.0 Norm Loss', 1.1710752),\n",
      " ('TV(2.0) Loss', 826.60645)], overall loss: -808.6458740234375\n",
      "Iteration: 111, named_losses: [('ActivationMax Loss', -1630.6802),\n",
      " ('L-6.0 Norm Loss', 1.1758698),\n",
      " ('TV(2.0) Loss', 823.39453)], overall loss: -806.1097412109375\n",
      "Iteration: 112, named_losses: [('ActivationMax Loss', -1634.5912),\n",
      " ('L-6.0 Norm Loss', 1.1760124),\n",
      " ('TV(2.0) Loss', 826.11993)], overall loss: -807.2952270507812\n",
      "Iteration: 113, named_losses: [('ActivationMax Loss', -1632.8425),\n",
      " ('L-6.0 Norm Loss', 1.1806688),\n",
      " ('TV(2.0) Loss', 825.3734)], overall loss: -806.2884521484375\n",
      "Iteration: 114, named_losses: [('ActivationMax Loss', -1633.9465),\n",
      " ('L-6.0 Norm Loss', 1.1829802),\n",
      " ('TV(2.0) Loss', 826.2187)], overall loss: -806.5448608398438\n",
      "Iteration: 115, named_losses: [('ActivationMax Loss', -1637.5028),\n",
      " ('L-6.0 Norm Loss', 1.1907046),\n",
      " ('TV(2.0) Loss', 829.72546)], overall loss: -806.586669921875\n",
      "Iteration: 116, named_losses: [('ActivationMax Loss', -1638.1923),\n",
      " ('L-6.0 Norm Loss', 1.1885871),\n",
      " ('TV(2.0) Loss', 830.3316)], overall loss: -806.6720581054688\n",
      "Iteration: 117, named_losses: [('ActivationMax Loss', -1637.1873),\n",
      " ('L-6.0 Norm Loss', 1.1943394),\n",
      " ('TV(2.0) Loss', 829.74744)], overall loss: -806.2454833984375\n",
      "Iteration: 118, named_losses: [('ActivationMax Loss', -1639.9921),\n",
      " ('L-6.0 Norm Loss', 1.1925371),\n",
      " ('TV(2.0) Loss', 832.56915)], overall loss: -806.2304077148438\n",
      "Iteration: 119, named_losses: [('ActivationMax Loss', -1639.0779),\n",
      " ('L-6.0 Norm Loss', 1.1980636),\n",
      " ('TV(2.0) Loss', 831.97705)], overall loss: -805.9027099609375\n",
      "Iteration: 120, named_losses: [('ActivationMax Loss', -1641.2507),\n",
      " ('L-6.0 Norm Loss', 1.1966385),\n",
      " ('TV(2.0) Loss', 831.9326)], overall loss: -808.1214599609375\n",
      "Iteration: 121, named_losses: [('ActivationMax Loss', -1638.9664),\n",
      " ('L-6.0 Norm Loss', 1.2023555),\n",
      " ('TV(2.0) Loss', 831.0427)], overall loss: -806.7213134765625\n",
      "Iteration: 122, named_losses: [('ActivationMax Loss', -1645.3923),\n",
      " ('L-6.0 Norm Loss', 1.2005892),\n",
      " ('TV(2.0) Loss', 836.94196)], overall loss: -807.2498168945312\n",
      "Iteration: 123, named_losses: [('ActivationMax Loss', -1641.876),\n",
      " ('L-6.0 Norm Loss', 1.2017987),\n",
      " ('TV(2.0) Loss', 833.85)], overall loss: -806.82421875\n",
      "Iteration: 124, named_losses: [('ActivationMax Loss', -1642.2087),\n",
      " ('L-6.0 Norm Loss', 1.205498),\n",
      " ('TV(2.0) Loss', 834.41425)], overall loss: -806.5890502929688\n",
      "Iteration: 125, named_losses: [('ActivationMax Loss', -1641.1099),\n",
      " ('L-6.0 Norm Loss', 1.2055196),\n",
      " ('TV(2.0) Loss', 832.078)], overall loss: -807.8262939453125\n",
      "Iteration: 126, named_losses: [('ActivationMax Loss', -1639.5631),\n",
      " ('L-6.0 Norm Loss', 1.2042428),\n",
      " ('TV(2.0) Loss', 830.12646)], overall loss: -808.232421875\n",
      "Iteration: 127, named_losses: [('ActivationMax Loss', -1640.4227),\n",
      " ('L-6.0 Norm Loss', 1.2092036),\n",
      " ('TV(2.0) Loss', 830.81757)], overall loss: -808.3959350585938\n",
      "Iteration: 128, named_losses: [('ActivationMax Loss', -1644.4076),\n",
      " ('L-6.0 Norm Loss', 1.2097591),\n",
      " ('TV(2.0) Loss', 835.638)], overall loss: -807.5598754882812\n",
      "Iteration: 129, named_losses: [('ActivationMax Loss', -1640.0968),\n",
      " ('L-6.0 Norm Loss', 1.2124436),\n",
      " ('TV(2.0) Loss', 830.45703)], overall loss: -808.4273681640625\n",
      "Iteration: 130, named_losses: [('ActivationMax Loss', -1648.6477),\n",
      " ('L-6.0 Norm Loss', 1.2129182),\n",
      " ('TV(2.0) Loss', 839.9933)], overall loss: -807.4415283203125\n",
      "Iteration: 131, named_losses: [('ActivationMax Loss', -1640.5841),\n",
      " ('L-6.0 Norm Loss', 1.2170396),\n",
      " ('TV(2.0) Loss', 831.1249)], overall loss: -808.2421875\n",
      "Iteration: 132, named_losses: [('ActivationMax Loss', -1644.8508),\n",
      " ('L-6.0 Norm Loss', 1.2165042),\n",
      " ('TV(2.0) Loss', 835.71124)], overall loss: -807.9230346679688\n",
      "Iteration: 133, named_losses: [('ActivationMax Loss', -1643.6733),\n",
      " ('L-6.0 Norm Loss', 1.2209613),\n",
      " ('TV(2.0) Loss', 834.1301)], overall loss: -808.322265625\n",
      "Iteration: 134, named_losses: [('ActivationMax Loss', -1647.6353),\n",
      " ('L-6.0 Norm Loss', 1.2183827),\n",
      " ('TV(2.0) Loss', 837.8267)], overall loss: -808.5901489257812\n",
      "Iteration: 135, named_losses: [('ActivationMax Loss', -1641.9835),\n",
      " ('L-6.0 Norm Loss', 1.2244483),\n",
      " ('TV(2.0) Loss', 832.1427)], overall loss: -808.6163330078125\n",
      "Iteration: 136, named_losses: [('ActivationMax Loss', -1644.5691),\n",
      " ('L-6.0 Norm Loss', 1.2212012),\n",
      " ('TV(2.0) Loss', 835.1198)], overall loss: -808.2280883789062\n",
      "Iteration: 137, named_losses: [('ActivationMax Loss', -1643.0619),\n",
      " ('L-6.0 Norm Loss', 1.2274053),\n",
      " ('TV(2.0) Loss', 832.6935)], overall loss: -809.1409912109375\n",
      "Iteration: 138, named_losses: [('ActivationMax Loss', -1646.9949),\n",
      " ('L-6.0 Norm Loss', 1.2237208),\n",
      " ('TV(2.0) Loss', 837.2603)], overall loss: -808.5108032226562\n",
      "Iteration: 139, named_losses: [('ActivationMax Loss', -1640.3138),\n",
      " ('L-6.0 Norm Loss', 1.22967),\n",
      " ('TV(2.0) Loss', 829.33075)], overall loss: -809.7534790039062\n",
      "Iteration: 140, named_losses: [('ActivationMax Loss', -1647.964),\n",
      " ('L-6.0 Norm Loss', 1.226089),\n",
      " ('TV(2.0) Loss', 838.0816)], overall loss: -808.6563110351562\n",
      "Iteration: 141, named_losses: [('ActivationMax Loss', -1642.3718),\n",
      " ('L-6.0 Norm Loss', 1.2262586),\n",
      " ('TV(2.0) Loss', 831.809)], overall loss: -809.3364868164062\n",
      "Iteration: 142, named_losses: [('ActivationMax Loss', -1652.1553),\n",
      " ('L-6.0 Norm Loss', 1.2297405),\n",
      " ('TV(2.0) Loss', 842.7173)], overall loss: -808.208251953125\n",
      "Iteration: 143, named_losses: [('ActivationMax Loss', -1642.8757),\n",
      " ('L-6.0 Norm Loss', 1.2281135),\n",
      " ('TV(2.0) Loss', 831.82697)], overall loss: -809.8206176757812\n",
      "Iteration: 144, named_losses: [('ActivationMax Loss', -1647.091),\n",
      " ('L-6.0 Norm Loss', 1.2260298),\n",
      " ('TV(2.0) Loss', 837.2709)], overall loss: -808.593994140625\n",
      "Iteration: 145, named_losses: [('ActivationMax Loss', -1647.5228),\n",
      " ('L-6.0 Norm Loss', 1.2316477),\n",
      " ('TV(2.0) Loss', 836.4153)], overall loss: -809.8758544921875\n"
     ]
    },
    {
     "name": "stdout",
     "output_type": "stream",
     "text": [
      "Iteration: 146, named_losses: [('ActivationMax Loss', -1648.0942),\n",
      " ('L-6.0 Norm Loss', 1.2292676),\n",
      " ('TV(2.0) Loss', 837.5692)], overall loss: -809.2957763671875\n",
      "Iteration: 147, named_losses: [('ActivationMax Loss', -1645.5366),\n",
      " ('L-6.0 Norm Loss', 1.2350146),\n",
      " ('TV(2.0) Loss', 835.67676)], overall loss: -808.6248779296875\n",
      "Iteration: 148, named_losses: [('ActivationMax Loss', -1647.0359),\n",
      " ('L-6.0 Norm Loss', 1.231557),\n",
      " ('TV(2.0) Loss', 836.4132)], overall loss: -809.39111328125\n",
      "Iteration: 149, named_losses: [('ActivationMax Loss', -1646.7808),\n",
      " ('L-6.0 Norm Loss', 1.2385288),\n",
      " ('TV(2.0) Loss', 835.93787)], overall loss: -809.6043701171875\n",
      "Iteration: 150, named_losses: [('ActivationMax Loss', -1648.9),\n",
      " ('L-6.0 Norm Loss', 1.2341131),\n",
      " ('TV(2.0) Loss', 838.8411)], overall loss: -808.8247680664062\n",
      "Iteration: 151, named_losses: [('ActivationMax Loss', -1649.9885),\n",
      " ('L-6.0 Norm Loss', 1.232891),\n",
      " ('TV(2.0) Loss', 839.9134)], overall loss: -808.8422241210938\n",
      "Iteration: 152, named_losses: [('ActivationMax Loss', -1651.2756),\n",
      " ('L-6.0 Norm Loss', 1.2292017),\n",
      " ('TV(2.0) Loss', 841.1844)], overall loss: -808.8619995117188\n",
      "Iteration: 153, named_losses: [('ActivationMax Loss', -1648.3685),\n",
      " ('L-6.0 Norm Loss', 1.2368547),\n",
      " ('TV(2.0) Loss', 837.79865)], overall loss: -809.3330688476562\n",
      "Iteration: 154, named_losses: [('ActivationMax Loss', -1652.4668),\n",
      " ('L-6.0 Norm Loss', 1.23233),\n",
      " ('TV(2.0) Loss', 842.7433)], overall loss: -808.4912109375\n",
      "Iteration: 155, named_losses: [('ActivationMax Loss', -1648.1997),\n",
      " ('L-6.0 Norm Loss', 1.2397565),\n",
      " ('TV(2.0) Loss', 836.85864)], overall loss: -810.101318359375\n",
      "Iteration: 156, named_losses: [('ActivationMax Loss', -1651.7352),\n",
      " ('L-6.0 Norm Loss', 1.2353373),\n",
      " ('TV(2.0) Loss', 841.67566)], overall loss: -808.82421875\n",
      "Iteration: 157, named_losses: [('ActivationMax Loss', -1650.8121),\n",
      " ('L-6.0 Norm Loss', 1.2431116),\n",
      " ('TV(2.0) Loss', 838.67255)], overall loss: -810.8964233398438\n",
      "Iteration: 158, named_losses: [('ActivationMax Loss', -1655.4739),\n",
      " ('L-6.0 Norm Loss', 1.2381867),\n",
      " ('TV(2.0) Loss', 846.45935)], overall loss: -807.7763671875\n",
      "Iteration: 159, named_losses: [('ActivationMax Loss', -1649.6074),\n",
      " ('L-6.0 Norm Loss', 1.2458884),\n",
      " ('TV(2.0) Loss', 838.683)], overall loss: -809.6785888671875\n",
      "Iteration: 160, named_losses: [('ActivationMax Loss', -1658.6333),\n",
      " ('L-6.0 Norm Loss', 1.240823),\n",
      " ('TV(2.0) Loss', 849.29517)], overall loss: -808.0972900390625\n",
      "Iteration: 161, named_losses: [('ActivationMax Loss', -1651.2369),\n",
      " ('L-6.0 Norm Loss', 1.2471697),\n",
      " ('TV(2.0) Loss', 839.7263)], overall loss: -810.263427734375\n",
      "Iteration: 162, named_losses: [('ActivationMax Loss', -1657.0103),\n",
      " ('L-6.0 Norm Loss', 1.2432723),\n",
      " ('TV(2.0) Loss', 847.4075)], overall loss: -808.3594970703125\n",
      "Iteration: 163, named_losses: [('ActivationMax Loss', -1650.2258),\n",
      " ('L-6.0 Norm Loss', 1.2399466),\n",
      " ('TV(2.0) Loss', 838.5516)], overall loss: -810.4342651367188\n",
      "Iteration: 164, named_losses: [('ActivationMax Loss', -1654.8945),\n",
      " ('L-6.0 Norm Loss', 1.2364175),\n",
      " ('TV(2.0) Loss', 845.1064)], overall loss: -808.5516967773438\n",
      "Iteration: 165, named_losses: [('ActivationMax Loss', -1650.0349),\n",
      " ('L-6.0 Norm Loss', 1.2435236),\n",
      " ('TV(2.0) Loss', 838.5519)], overall loss: -810.239501953125\n",
      "Iteration: 166, named_losses: [('ActivationMax Loss', -1657.4126),\n",
      " ('L-6.0 Norm Loss', 1.2404157),\n",
      " ('TV(2.0) Loss', 847.59546)], overall loss: -808.5767822265625\n",
      "Iteration: 167, named_losses: [('ActivationMax Loss', -1649.8208),\n",
      " ('L-6.0 Norm Loss', 1.2451242),\n",
      " ('TV(2.0) Loss', 838.2808)], overall loss: -810.2948608398438\n",
      "Iteration: 168, named_losses: [('ActivationMax Loss', -1659.6053),\n",
      " ('L-6.0 Norm Loss', 1.2432014),\n",
      " ('TV(2.0) Loss', 849.026)], overall loss: -809.336181640625\n",
      "Iteration: 169, named_losses: [('ActivationMax Loss', -1650.7772),\n",
      " ('L-6.0 Norm Loss', 1.2477016),\n",
      " ('TV(2.0) Loss', 839.60895)], overall loss: -809.9205932617188\n",
      "Iteration: 170, named_losses: [('ActivationMax Loss', -1655.6545),\n",
      " ('L-6.0 Norm Loss', 1.244308),\n",
      " ('TV(2.0) Loss', 845.06616)], overall loss: -809.3441162109375\n",
      "Iteration: 171, named_losses: [('ActivationMax Loss', -1649.322),\n",
      " ('L-6.0 Norm Loss', 1.2400221),\n",
      " ('TV(2.0) Loss', 837.9822)], overall loss: -810.099853515625\n",
      "Iteration: 172, named_losses: [('ActivationMax Loss', -1653.1171),\n",
      " ('L-6.0 Norm Loss', 1.2485759),\n",
      " ('TV(2.0) Loss', 842.919)], overall loss: -808.9495239257812\n",
      "Iteration: 173, named_losses: [('ActivationMax Loss', -1653.1338),\n",
      " ('L-6.0 Norm Loss', 1.2441984),\n",
      " ('TV(2.0) Loss', 842.19543)], overall loss: -809.6942138671875\n",
      "Iteration: 174, named_losses: [('ActivationMax Loss', -1655.7565),\n",
      " ('L-6.0 Norm Loss', 1.2519301),\n",
      " ('TV(2.0) Loss', 846.044)], overall loss: -808.4605102539062\n",
      "Iteration: 175, named_losses: [('ActivationMax Loss', -1650.0852),\n",
      " ('L-6.0 Norm Loss', 1.2471235),\n",
      " ('TV(2.0) Loss', 838.4645)], overall loss: -810.3736572265625\n",
      "Iteration: 176, named_losses: [('ActivationMax Loss', -1656.8062),\n",
      " ('L-6.0 Norm Loss', 1.2440886),\n",
      " ('TV(2.0) Loss', 846.97205)], overall loss: -808.5899658203125\n",
      "Iteration: 177, named_losses: [('ActivationMax Loss', -1651.7305),\n",
      " ('L-6.0 Norm Loss', 1.240431),\n",
      " ('TV(2.0) Loss', 839.832)], overall loss: -810.6580200195312\n",
      "Iteration: 178, named_losses: [('ActivationMax Loss', -1655.5381),\n",
      " ('L-6.0 Norm Loss', 1.2479962),\n",
      " ('TV(2.0) Loss', 845.5712)], overall loss: -808.7188110351562\n",
      "Iteration: 179, named_losses: [('ActivationMax Loss', -1652.9519),\n",
      " ('L-6.0 Norm Loss', 1.2440466),\n",
      " ('TV(2.0) Loss', 840.99634)], overall loss: -810.7115478515625\n",
      "Iteration: 180, named_losses: [('ActivationMax Loss', -1657.6594),\n",
      " ('L-6.0 Norm Loss', 1.241247),\n",
      " ('TV(2.0) Loss', 848.5092)], overall loss: -807.9089965820312\n",
      "Iteration: 181, named_losses: [('ActivationMax Loss', -1653.2234),\n",
      " ('L-6.0 Norm Loss', 1.2381103),\n",
      " ('TV(2.0) Loss', 840.6794)], overall loss: -811.3058471679688\n",
      "Iteration: 182, named_losses: [('ActivationMax Loss', -1660.1573),\n",
      " ('L-6.0 Norm Loss', 1.236001),\n",
      " ('TV(2.0) Loss', 851.0213)], overall loss: -807.9000854492188\n",
      "Iteration: 183, named_losses: [('ActivationMax Loss', -1650.3258),\n",
      " ('L-6.0 Norm Loss', 1.2436202),\n",
      " ('TV(2.0) Loss', 837.69965)], overall loss: -811.3825073242188\n",
      "Iteration: 184, named_losses: [('ActivationMax Loss', -1656.8947),\n",
      " ('L-6.0 Norm Loss', 1.2407967),\n",
      " ('TV(2.0) Loss', 847.59064)], overall loss: -808.0631713867188\n",
      "Iteration: 185, named_losses: [('ActivationMax Loss', -1653.3862),\n",
      " ('L-6.0 Norm Loss', 1.2478383),\n",
      " ('TV(2.0) Loss', 841.3261)], overall loss: -810.8123168945312\n",
      "Iteration: 186, named_losses: [('ActivationMax Loss', -1656.2483),\n",
      " ('L-6.0 Norm Loss', 1.2438102),\n",
      " ('TV(2.0) Loss', 847.2625)], overall loss: -807.7420043945312\n",
      "Iteration: 187, named_losses: [('ActivationMax Loss', -1655.3768),\n",
      " ('L-6.0 Norm Loss', 1.2512206),\n",
      " ('TV(2.0) Loss', 844.06964)], overall loss: -810.0559692382812\n",
      "Iteration: 188, named_losses: [('ActivationMax Loss', -1657.395),\n",
      " ('L-6.0 Norm Loss', 1.2472626),\n",
      " ('TV(2.0) Loss', 846.41956)], overall loss: -809.7281494140625\n",
      "Iteration: 189, named_losses: [('ActivationMax Loss', -1651.28),\n",
      " ('L-6.0 Norm Loss', 1.2541263),\n",
      " ('TV(2.0) Loss', 840.25226)], overall loss: -809.7736206054688\n",
      "Iteration: 190, named_losses: [('ActivationMax Loss', -1660.166),\n",
      " ('L-6.0 Norm Loss', 1.2506986),\n",
      " ('TV(2.0) Loss', 850.38184)], overall loss: -808.533447265625\n",
      "Iteration: 191, named_losses: [('ActivationMax Loss', -1654.6072),\n",
      " ('L-6.0 Norm Loss', 1.2457471),\n",
      " ('TV(2.0) Loss', 843.98303)], overall loss: -809.37841796875\n",
      "Iteration: 192, named_losses: [('ActivationMax Loss', -1655.2991),\n",
      " ('L-6.0 Norm Loss', 1.2536149),\n",
      " ('TV(2.0) Loss', 845.5296)], overall loss: -808.5158081054688\n",
      "Iteration: 193, named_losses: [('ActivationMax Loss', -1653.3994),\n",
      " ('L-6.0 Norm Loss', 1.2484789),\n",
      " ('TV(2.0) Loss', 842.90674)], overall loss: -809.244140625\n",
      "Iteration: 194, named_losses: [('ActivationMax Loss', -1658.2834),\n",
      " ('L-6.0 Norm Loss', 1.2459133),\n",
      " ('TV(2.0) Loss', 847.5336)], overall loss: -809.5038452148438\n",
      "Iteration: 195, named_losses: [('ActivationMax Loss', -1652.8663),\n",
      " ('L-6.0 Norm Loss', 1.2517685),\n",
      " ('TV(2.0) Loss', 842.23737)], overall loss: -809.3772583007812\n",
      "Iteration: 196, named_losses: [('ActivationMax Loss', -1658.0063),\n",
      " ('L-6.0 Norm Loss', 1.249031),\n",
      " ('TV(2.0) Loss', 847.7205)], overall loss: -809.0368041992188\n",
      "Iteration: 197, named_losses: [('ActivationMax Loss', -1652.928),\n",
      " ('L-6.0 Norm Loss', 1.2548631),\n",
      " ('TV(2.0) Loss', 841.7887)], overall loss: -809.8843994140625\n",
      "Iteration: 198, named_losses: [('ActivationMax Loss', -1659.7021),\n",
      " ('L-6.0 Norm Loss', 1.2513224),\n",
      " ('TV(2.0) Loss', 849.03186)], overall loss: -809.4189453125\n",
      "Iteration: 199, named_losses: [('ActivationMax Loss', -1655.1248),\n",
      " ('L-6.0 Norm Loss', 1.257953),\n",
      " ('TV(2.0) Loss', 844.4028)], overall loss: -809.4640502929688\n",
      "Iteration: 200, named_losses: [('ActivationMax Loss', -1661.6305),\n",
      " ('L-6.0 Norm Loss', 1.2535293),\n",
      " ('TV(2.0) Loss', 851.33795)], overall loss: -809.0390014648438\n"
     ]
    },
    {
     "data": {
      "text/plain": [
       "<matplotlib.image.AxesImage at 0x1c2a5127b8>"
      ]
     },
     "execution_count": 11,
     "metadata": {},
     "output_type": "execute_result"
    },
    {
     "data": {
      "image/png": "[encoded data removed]",
      "text/plain": [
       "<Figure size 1296x432 with 1 Axes>"
      ]
     },
     "metadata": {},
     "output_type": "display_data"
    }
   ],
   "source": [
    "img = visualize_activation(model, layer_idx, filter_indices=filter_idx, input_range=(0., 1.), verbose=True)\n",
    "plt.imshow(img[..., 0])"
   ]
  },
  {
   "cell_type": "markdown",
   "metadata": {},
   "source": [
    "The Overall Loss was affected by TV loss and the ActivationMax Loss is not converging. \n",
    "So We would like to set the total variation loss and L-p norm weight to 0. So wee can see how is the ActivationMax Loss performing in each iteration."
   ]
  },
  {
   "cell_type": "code",
   "execution_count": 12,
   "metadata": {},
   "outputs": [
    {
     "name": "stdout",
     "output_type": "stream",
     "text": [
      "Iteration: 1, named_losses: [('ActivationMax Loss', -0.05816499)], overall loss: -0.058164991438388824\n",
      "Iteration: 2, named_losses: [('ActivationMax Loss', 0.7910058)], overall loss: 0.7910057902336121\n",
      "Iteration: 3, named_losses: [('ActivationMax Loss', -195.92493)], overall loss: -195.9249267578125\n",
      "Iteration: 4, named_losses: [('ActivationMax Loss', -427.51993)], overall loss: -427.5199279785156\n",
      "Iteration: 5, named_losses: [('ActivationMax Loss', -645.6162)], overall loss: -645.6162109375\n",
      "Iteration: 6, named_losses: [('ActivationMax Loss', -835.34766)], overall loss: -835.34765625\n",
      "Iteration: 7, named_losses: [('ActivationMax Loss', -1010.95026)], overall loss: -1010.9502563476562\n",
      "Iteration: 8, named_losses: [('ActivationMax Loss', -1176.8204)], overall loss: -1176.8204345703125\n",
      "Iteration: 9, named_losses: [('ActivationMax Loss', -1330.1636)], overall loss: -1330.16357421875\n",
      "Iteration: 10, named_losses: [('ActivationMax Loss', -1473.8228)], overall loss: -1473.82275390625\n",
      "Iteration: 11, named_losses: [('ActivationMax Loss', -1618.1418)], overall loss: -1618.141845703125\n",
      "Iteration: 12, named_losses: [('ActivationMax Loss', -1754.8743)], overall loss: -1754.874267578125\n",
      "Iteration: 13, named_losses: [('ActivationMax Loss', -1893.5768)], overall loss: -1893.5767822265625\n",
      "Iteration: 14, named_losses: [('ActivationMax Loss', -2025.9897)], overall loss: -2025.98974609375\n",
      "Iteration: 15, named_losses: [('ActivationMax Loss', -2148.262)], overall loss: -2148.261962890625\n",
      "Iteration: 16, named_losses: [('ActivationMax Loss', -2272.7039)], overall loss: -2272.703857421875\n",
      "Iteration: 17, named_losses: [('ActivationMax Loss', -2389.5427)], overall loss: -2389.542724609375\n",
      "Iteration: 18, named_losses: [('ActivationMax Loss', -2511.411)], overall loss: -2511.410888671875\n",
      "Iteration: 19, named_losses: [('ActivationMax Loss', -2623.9805)], overall loss: -2623.98046875\n",
      "Iteration: 20, named_losses: [('ActivationMax Loss', -2741.3047)], overall loss: -2741.3046875\n",
      "Iteration: 21, named_losses: [('ActivationMax Loss', -2850.418)], overall loss: -2850.41796875\n",
      "Iteration: 22, named_losses: [('ActivationMax Loss', -2967.977)], overall loss: -2967.97705078125\n",
      "Iteration: 23, named_losses: [('ActivationMax Loss', -3077.9614)], overall loss: -3077.96142578125\n",
      "Iteration: 24, named_losses: [('ActivationMax Loss', -3192.6636)], overall loss: -3192.66357421875\n",
      "Iteration: 25, named_losses: [('ActivationMax Loss', -3297.4924)], overall loss: -3297.492431640625\n",
      "Iteration: 26, named_losses: [('ActivationMax Loss', -3411.3584)], overall loss: -3411.3583984375\n",
      "Iteration: 27, named_losses: [('ActivationMax Loss', -3514.5647)], overall loss: -3514.564697265625\n",
      "Iteration: 28, named_losses: [('ActivationMax Loss', -3624.629)], overall loss: -3624.62890625\n",
      "Iteration: 29, named_losses: [('ActivationMax Loss', -3728.078)], overall loss: -3728.077880859375\n",
      "Iteration: 30, named_losses: [('ActivationMax Loss', -3837.1582)], overall loss: -3837.158203125\n",
      "Iteration: 31, named_losses: [('ActivationMax Loss', -3940.6106)], overall loss: -3940.610595703125\n",
      "Iteration: 32, named_losses: [('ActivationMax Loss', -4046.754)], overall loss: -4046.75390625\n",
      "Iteration: 33, named_losses: [('ActivationMax Loss', -4148.123)], overall loss: -4148.123046875\n",
      "Iteration: 34, named_losses: [('ActivationMax Loss', -4251.6025)], overall loss: -4251.6025390625\n",
      "Iteration: 35, named_losses: [('ActivationMax Loss', -4353.936)], overall loss: -4353.93603515625\n",
      "Iteration: 36, named_losses: [('ActivationMax Loss', -4455.4067)], overall loss: -4455.40673828125\n",
      "Iteration: 37, named_losses: [('ActivationMax Loss', -4558.9097)], overall loss: -4558.90966796875\n",
      "Iteration: 38, named_losses: [('ActivationMax Loss', -4658.4775)], overall loss: -4658.4775390625\n",
      "Iteration: 39, named_losses: [('ActivationMax Loss', -4759.9683)], overall loss: -4759.96826171875\n",
      "Iteration: 40, named_losses: [('ActivationMax Loss', -4855.188)], overall loss: -4855.18798828125\n",
      "Iteration: 41, named_losses: [('ActivationMax Loss', -4954.195)], overall loss: -4954.19482421875\n",
      "Iteration: 42, named_losses: [('ActivationMax Loss', -5052.5566)], overall loss: -5052.556640625\n",
      "Iteration: 43, named_losses: [('ActivationMax Loss', -5150.722)], overall loss: -5150.72216796875\n",
      "Iteration: 44, named_losses: [('ActivationMax Loss', -5249.7275)], overall loss: -5249.7275390625\n",
      "Iteration: 45, named_losses: [('ActivationMax Loss', -5345.2134)], overall loss: -5345.21337890625\n",
      "Iteration: 46, named_losses: [('ActivationMax Loss', -5442.6626)], overall loss: -5442.66259765625\n",
      "Iteration: 47, named_losses: [('ActivationMax Loss', -5538.959)], overall loss: -5538.958984375\n",
      "Iteration: 48, named_losses: [('ActivationMax Loss', -5634.3447)], overall loss: -5634.3447265625\n",
      "Iteration: 49, named_losses: [('ActivationMax Loss', -5731.0625)], overall loss: -5731.0625\n",
      "Iteration: 50, named_losses: [('ActivationMax Loss', -5826.763)], overall loss: -5826.76318359375\n",
      "Iteration: 51, named_losses: [('ActivationMax Loss', -5921.316)], overall loss: -5921.31591796875\n",
      "Iteration: 52, named_losses: [('ActivationMax Loss', -6017.871)], overall loss: -6017.87109375\n",
      "Iteration: 53, named_losses: [('ActivationMax Loss', -6112.5493)], overall loss: -6112.54931640625\n",
      "Iteration: 54, named_losses: [('ActivationMax Loss', -6210.144)], overall loss: -6210.14404296875\n",
      "Iteration: 55, named_losses: [('ActivationMax Loss', -6303.4146)], overall loss: -6303.41455078125\n",
      "Iteration: 56, named_losses: [('ActivationMax Loss', -6398.4604)], overall loss: -6398.46044921875\n",
      "Iteration: 57, named_losses: [('ActivationMax Loss', -6493.7534)], overall loss: -6493.75341796875\n",
      "Iteration: 58, named_losses: [('ActivationMax Loss', -6588.7153)], overall loss: -6588.71533203125\n",
      "Iteration: 59, named_losses: [('ActivationMax Loss', -6684.8145)], overall loss: -6684.814453125\n",
      "Iteration: 60, named_losses: [('ActivationMax Loss', -6779.3525)], overall loss: -6779.3525390625\n",
      "Iteration: 61, named_losses: [('ActivationMax Loss', -6876.5747)], overall loss: -6876.57470703125\n",
      "Iteration: 62, named_losses: [('ActivationMax Loss', -6970.708)], overall loss: -6970.7080078125\n",
      "Iteration: 63, named_losses: [('ActivationMax Loss', -7066.2085)], overall loss: -7066.20849609375\n",
      "Iteration: 64, named_losses: [('ActivationMax Loss', -7163.0327)], overall loss: -7163.03271484375\n",
      "Iteration: 65, named_losses: [('ActivationMax Loss', -7258.374)], overall loss: -7258.3740234375\n",
      "Iteration: 66, named_losses: [('ActivationMax Loss', -7354.8677)], overall loss: -7354.86767578125\n",
      "Iteration: 67, named_losses: [('ActivationMax Loss', -7449.4316)], overall loss: -7449.431640625\n",
      "Iteration: 68, named_losses: [('ActivationMax Loss', -7545.692)], overall loss: -7545.69189453125\n",
      "Iteration: 69, named_losses: [('ActivationMax Loss', -7640.178)], overall loss: -7640.17822265625\n",
      "Iteration: 70, named_losses: [('ActivationMax Loss', -7735.7485)], overall loss: -7735.74853515625\n",
      "Iteration: 71, named_losses: [('ActivationMax Loss', -7832.4473)], overall loss: -7832.447265625\n",
      "Iteration: 72, named_losses: [('ActivationMax Loss', -7925.388)], overall loss: -7925.38818359375\n",
      "Iteration: 73, named_losses: [('ActivationMax Loss', -8021.2085)], overall loss: -8021.20849609375\n",
      "Iteration: 74, named_losses: [('ActivationMax Loss', -8114.9287)], overall loss: -8114.9287109375\n",
      "Iteration: 75, named_losses: [('ActivationMax Loss', -8211.322)], overall loss: -8211.322265625\n",
      "Iteration: 76, named_losses: [('ActivationMax Loss', -8303.474)], overall loss: -8303.4736328125\n",
      "Iteration: 77, named_losses: [('ActivationMax Loss', -8397.476)], overall loss: -8397.4755859375\n",
      "Iteration: 78, named_losses: [('ActivationMax Loss', -8491.822)], overall loss: -8491.822265625\n",
      "Iteration: 79, named_losses: [('ActivationMax Loss', -8585.468)], overall loss: -8585.4677734375\n",
      "Iteration: 80, named_losses: [('ActivationMax Loss', -8679.249)], overall loss: -8679.2490234375\n",
      "Iteration: 81, named_losses: [('ActivationMax Loss', -8773.19)], overall loss: -8773.1904296875\n",
      "Iteration: 82, named_losses: [('ActivationMax Loss', -8868.338)], overall loss: -8868.337890625\n",
      "Iteration: 83, named_losses: [('ActivationMax Loss', -8960.807)], overall loss: -8960.806640625\n",
      "Iteration: 84, named_losses: [('ActivationMax Loss', -9055.061)], overall loss: -9055.060546875\n",
      "Iteration: 85, named_losses: [('ActivationMax Loss', -9146.952)], overall loss: -9146.9521484375\n",
      "Iteration: 86, named_losses: [('ActivationMax Loss', -9242.627)], overall loss: -9242.626953125\n",
      "Iteration: 87, named_losses: [('ActivationMax Loss', -9334.871)], overall loss: -9334.87109375\n",
      "Iteration: 88, named_losses: [('ActivationMax Loss', -9429.838)], overall loss: -9429.837890625\n",
      "Iteration: 89, named_losses: [('ActivationMax Loss', -9520.824)], overall loss: -9520.82421875\n",
      "Iteration: 90, named_losses: [('ActivationMax Loss', -9613.833)], overall loss: -9613.8330078125\n",
      "Iteration: 91, named_losses: [('ActivationMax Loss', -9706.197)], overall loss: -9706.197265625\n",
      "Iteration: 92, named_losses: [('ActivationMax Loss', -9798.73)], overall loss: -9798.73046875\n",
      "Iteration: 93, named_losses: [('ActivationMax Loss', -9893.947)], overall loss: -9893.947265625\n",
      "Iteration: 94, named_losses: [('ActivationMax Loss', -9986.521)], overall loss: -9986.521484375\n",
      "Iteration: 95, named_losses: [('ActivationMax Loss', -10080.467)], overall loss: -10080.466796875\n",
      "Iteration: 96, named_losses: [('ActivationMax Loss', -10173.3)], overall loss: -10173.2998046875\n",
      "Iteration: 97, named_losses: [('ActivationMax Loss', -10267.6875)], overall loss: -10267.6875\n",
      "Iteration: 98, named_losses: [('ActivationMax Loss', -10359.648)], overall loss: -10359.6484375\n",
      "Iteration: 99, named_losses: [('ActivationMax Loss', -10453.599)], overall loss: -10453.5986328125\n",
      "Iteration: 100, named_losses: [('ActivationMax Loss', -10546.434)], overall loss: -10546.43359375\n",
      "Iteration: 101, named_losses: [('ActivationMax Loss', -10641.598)], overall loss: -10641.59765625\n",
      "Iteration: 102, named_losses: [('ActivationMax Loss', -10732.796)], overall loss: -10732.7958984375\n",
      "Iteration: 103, named_losses: [('ActivationMax Loss', -10827.723)], overall loss: -10827.72265625\n",
      "Iteration: 104, named_losses: [('ActivationMax Loss', -10921.037)], overall loss: -10921.037109375\n",
      "Iteration: 105, named_losses: [('ActivationMax Loss', -11013.204)], overall loss: -11013.2041015625\n",
      "Iteration: 106, named_losses: [('ActivationMax Loss', -11107.891)], overall loss: -11107.890625\n",
      "Iteration: 107, named_losses: [('ActivationMax Loss', -11200.018)], overall loss: -11200.017578125\n",
      "Iteration: 108, named_losses: [('ActivationMax Loss', -11293.664)], overall loss: -11293.6640625\n",
      "Iteration: 109, named_losses: [('ActivationMax Loss', -11386.523)], overall loss: -11386.5234375\n",
      "Iteration: 110, named_losses: [('ActivationMax Loss', -11480.699)], overall loss: -11480.69921875\n",
      "Iteration: 111, named_losses: [('ActivationMax Loss', -11572.812)], overall loss: -11572.8115234375\n",
      "Iteration: 112, named_losses: [('ActivationMax Loss', -11667.931)], overall loss: -11667.9306640625\n",
      "Iteration: 113, named_losses: [('ActivationMax Loss', -11759.708)], overall loss: -11759.7080078125\n",
      "Iteration: 114, named_losses: [('ActivationMax Loss', -11853.815)], overall loss: -11853.8154296875\n",
      "Iteration: 115, named_losses: [('ActivationMax Loss', -11946.582)], overall loss: -11946.58203125\n",
      "Iteration: 116, named_losses: [('ActivationMax Loss', -12041.128)], overall loss: -12041.1279296875\n",
      "Iteration: 117, named_losses: [('ActivationMax Loss', -12132.305)], overall loss: -12132.3046875\n",
      "Iteration: 118, named_losses: [('ActivationMax Loss', -12226.549)], overall loss: -12226.548828125\n",
      "Iteration: 119, named_losses: [('ActivationMax Loss', -12320.025)], overall loss: -12320.025390625\n",
      "Iteration: 120, named_losses: [('ActivationMax Loss', -12411.006)], overall loss: -12411.005859375\n",
      "Iteration: 121, named_losses: [('ActivationMax Loss', -12506.323)], overall loss: -12506.3232421875\n",
      "Iteration: 122, named_losses: [('ActivationMax Loss', -12597.295)], overall loss: -12597.294921875\n",
      "Iteration: 123, named_losses: [('ActivationMax Loss', -12690.178)], overall loss: -12690.177734375\n",
      "Iteration: 124, named_losses: [('ActivationMax Loss', -12783.816)], overall loss: -12783.81640625\n",
      "Iteration: 125, named_losses: [('ActivationMax Loss', -12877.616)], overall loss: -12877.6162109375\n",
      "Iteration: 126, named_losses: [('ActivationMax Loss', -12970.946)], overall loss: -12970.9462890625\n",
      "Iteration: 127, named_losses: [('ActivationMax Loss', -13063.309)], overall loss: -13063.30859375\n",
      "Iteration: 128, named_losses: [('ActivationMax Loss', -13159.15)], overall loss: -13159.150390625\n",
      "Iteration: 129, named_losses: [('ActivationMax Loss', -13250.032)], overall loss: -13250.0322265625\n",
      "Iteration: 130, named_losses: [('ActivationMax Loss', -13345.434)], overall loss: -13345.43359375\n",
      "Iteration: 131, named_losses: [('ActivationMax Loss', -13435.525)], overall loss: -13435.525390625\n",
      "Iteration: 132, named_losses: [('ActivationMax Loss', -13530.324)], overall loss: -13530.32421875\n",
      "Iteration: 133, named_losses: [('ActivationMax Loss', -13622.228)], overall loss: -13622.2275390625\n",
      "Iteration: 134, named_losses: [('ActivationMax Loss', -13714.943)], overall loss: -13714.943359375\n",
      "Iteration: 135, named_losses: [('ActivationMax Loss', -13809.129)], overall loss: -13809.12890625\n",
      "Iteration: 136, named_losses: [('ActivationMax Loss', -13902.419)], overall loss: -13902.4189453125\n",
      "Iteration: 137, named_losses: [('ActivationMax Loss', -13995.393)], overall loss: -13995.392578125\n",
      "Iteration: 138, named_losses: [('ActivationMax Loss', -14088.469)], overall loss: -14088.46875\n",
      "Iteration: 139, named_losses: [('ActivationMax Loss', -14182.293)], overall loss: -14182.29296875\n",
      "Iteration: 140, named_losses: [('ActivationMax Loss', -14273.499)], overall loss: -14273.4990234375\n",
      "Iteration: 141, named_losses: [('ActivationMax Loss', -14366.787)], overall loss: -14366.787109375\n",
      "Iteration: 142, named_losses: [('ActivationMax Loss', -14460.78)], overall loss: -14460.7802734375\n",
      "Iteration: 143, named_losses: [('ActivationMax Loss', -14554.115)], overall loss: -14554.115234375\n",
      "Iteration: 144, named_losses: [('ActivationMax Loss', -14648.503)], overall loss: -14648.5029296875\n",
      "Iteration: 145, named_losses: [('ActivationMax Loss', -14740.282)], overall loss: -14740.2822265625\n",
      "Iteration: 146, named_losses: [('ActivationMax Loss', -14833.769)], overall loss: -14833.7685546875\n",
      "Iteration: 147, named_losses: [('ActivationMax Loss', -14925.736)], overall loss: -14925.736328125\n",
      "Iteration: 148, named_losses: [('ActivationMax Loss', -15019.12)], overall loss: -15019.1201171875\n",
      "Iteration: 149, named_losses: [('ActivationMax Loss', -15113.942)], overall loss: -15113.9423828125\n"
     ]
    },
    {
     "name": "stdout",
     "output_type": "stream",
     "text": [
      "Iteration: 150, named_losses: [('ActivationMax Loss', -15206.598)], overall loss: -15206.59765625\n",
      "Iteration: 151, named_losses: [('ActivationMax Loss', -15301.923)], overall loss: -15301.9228515625\n",
      "Iteration: 152, named_losses: [('ActivationMax Loss', -15392.654)], overall loss: -15392.654296875\n",
      "Iteration: 153, named_losses: [('ActivationMax Loss', -15488.498)], overall loss: -15488.498046875\n",
      "Iteration: 154, named_losses: [('ActivationMax Loss', -15580.361)], overall loss: -15580.361328125\n",
      "Iteration: 155, named_losses: [('ActivationMax Loss', -15674.783)], overall loss: -15674.783203125\n",
      "Iteration: 156, named_losses: [('ActivationMax Loss', -15768.723)], overall loss: -15768.72265625\n",
      "Iteration: 157, named_losses: [('ActivationMax Loss', -15861.549)], overall loss: -15861.548828125\n",
      "Iteration: 158, named_losses: [('ActivationMax Loss', -15955.45)], overall loss: -15955.4501953125\n",
      "Iteration: 159, named_losses: [('ActivationMax Loss', -16049.098)], overall loss: -16049.09765625\n",
      "Iteration: 160, named_losses: [('ActivationMax Loss', -16143.982)], overall loss: -16143.982421875\n",
      "Iteration: 161, named_losses: [('ActivationMax Loss', -16237.141)], overall loss: -16237.140625\n",
      "Iteration: 162, named_losses: [('ActivationMax Loss', -16330.3125)], overall loss: -16330.3125\n",
      "Iteration: 163, named_losses: [('ActivationMax Loss', -16424.955)], overall loss: -16424.955078125\n",
      "Iteration: 164, named_losses: [('ActivationMax Loss', -16519.451)], overall loss: -16519.451171875\n",
      "Iteration: 165, named_losses: [('ActivationMax Loss', -16614.201)], overall loss: -16614.201171875\n",
      "Iteration: 166, named_losses: [('ActivationMax Loss', -16706.521)], overall loss: -16706.521484375\n",
      "Iteration: 167, named_losses: [('ActivationMax Loss', -16801.58)], overall loss: -16801.580078125\n",
      "Iteration: 168, named_losses: [('ActivationMax Loss', -16895.713)], overall loss: -16895.712890625\n",
      "Iteration: 169, named_losses: [('ActivationMax Loss', -16990.207)], overall loss: -16990.20703125\n",
      "Iteration: 170, named_losses: [('ActivationMax Loss', -17086.596)], overall loss: -17086.595703125\n",
      "Iteration: 171, named_losses: [('ActivationMax Loss', -17179.738)], overall loss: -17179.73828125\n",
      "Iteration: 172, named_losses: [('ActivationMax Loss', -17275.85)], overall loss: -17275.849609375\n",
      "Iteration: 173, named_losses: [('ActivationMax Loss', -17369.004)], overall loss: -17369.00390625\n",
      "Iteration: 174, named_losses: [('ActivationMax Loss', -17466.82)], overall loss: -17466.8203125\n",
      "Iteration: 175, named_losses: [('ActivationMax Loss', -17558.568)], overall loss: -17558.568359375\n",
      "Iteration: 176, named_losses: [('ActivationMax Loss', -17654.455)], overall loss: -17654.455078125\n",
      "Iteration: 177, named_losses: [('ActivationMax Loss', -17749.635)], overall loss: -17749.634765625\n",
      "Iteration: 178, named_losses: [('ActivationMax Loss', -17843.193)], overall loss: -17843.193359375\n",
      "Iteration: 179, named_losses: [('ActivationMax Loss', -17939.275)], overall loss: -17939.275390625\n",
      "Iteration: 180, named_losses: [('ActivationMax Loss', -18032.445)], overall loss: -18032.4453125\n",
      "Iteration: 181, named_losses: [('ActivationMax Loss', -18128.371)], overall loss: -18128.37109375\n",
      "Iteration: 182, named_losses: [('ActivationMax Loss', -18219.52)], overall loss: -18219.51953125\n",
      "Iteration: 183, named_losses: [('ActivationMax Loss', -18316.646)], overall loss: -18316.646484375\n",
      "Iteration: 184, named_losses: [('ActivationMax Loss', -18410.412)], overall loss: -18410.412109375\n",
      "Iteration: 185, named_losses: [('ActivationMax Loss', -18503.127)], overall loss: -18503.126953125\n",
      "Iteration: 186, named_losses: [('ActivationMax Loss', -18597.406)], overall loss: -18597.40625\n",
      "Iteration: 187, named_losses: [('ActivationMax Loss', -18691.906)], overall loss: -18691.90625\n",
      "Iteration: 188, named_losses: [('ActivationMax Loss', -18788.086)], overall loss: -18788.0859375\n",
      "Iteration: 189, named_losses: [('ActivationMax Loss', -18881.031)], overall loss: -18881.03125\n",
      "Iteration: 190, named_losses: [('ActivationMax Loss', -18975.373)], overall loss: -18975.373046875\n",
      "Iteration: 191, named_losses: [('ActivationMax Loss', -19068.297)], overall loss: -19068.296875\n",
      "Iteration: 192, named_losses: [('ActivationMax Loss', -19164.617)], overall loss: -19164.6171875\n",
      "Iteration: 193, named_losses: [('ActivationMax Loss', -19257.84)], overall loss: -19257.83984375\n",
      "Iteration: 194, named_losses: [('ActivationMax Loss', -19352.492)], overall loss: -19352.4921875\n",
      "Iteration: 195, named_losses: [('ActivationMax Loss', -19447.11)], overall loss: -19447.109375\n",
      "Iteration: 196, named_losses: [('ActivationMax Loss', -19541.332)], overall loss: -19541.33203125\n",
      "Iteration: 197, named_losses: [('ActivationMax Loss', -19636.35)], overall loss: -19636.349609375\n",
      "Iteration: 198, named_losses: [('ActivationMax Loss', -19731.139)], overall loss: -19731.138671875\n",
      "Iteration: 199, named_losses: [('ActivationMax Loss', -19825.717)], overall loss: -19825.716796875\n",
      "Iteration: 200, named_losses: [('ActivationMax Loss', -19920.195)], overall loss: -19920.1953125\n"
     ]
    },
    {
     "data": {
      "text/plain": [
       "<matplotlib.image.AxesImage at 0x1c2b77b630>"
      ]
     },
     "execution_count": 12,
     "metadata": {},
     "output_type": "execute_result"
    },
    {
     "data": {
      "image/png": "[encoded data removed]",
      "text/plain": [
       "<Figure size 1296x432 with 1 Axes>"
      ]
     },
     "metadata": {},
     "output_type": "display_data"
    }
   ],
   "source": [
    "img = visualize_activation(model, layer_idx, filter_indices=filter_idx, input_range=(0., 1.), \n",
    "                           tv_weight=0., lp_norm_weight=0., verbose=True)\n",
    "plt.imshow(img[..., 0])"
   ]
  },
  {
   "cell_type": "markdown",
   "metadata": {},
   "source": [
    "The ActivationMax Loss is converging after setting the other two loss weights to zero. However, the input picture also looks very unnatural. So we would like to set several different level of total variation weights and see which level can generate a more natural-look input."
   ]
  },
  {
   "cell_type": "code",
   "execution_count": 13,
   "metadata": {},
   "outputs": [
    {
     "data": {
      "image/png": "[encoded data removed]",
      "text/plain": [
       "<Figure size 1296x432 with 1 Axes>"
      ]
     },
     "metadata": {},
     "output_type": "display_data"
    },
    {
     "data": {
      "image/png": "[encoded data removed]",
      "text/plain": [
       "<Figure size 1296x432 with 1 Axes>"
      ]
     },
     "metadata": {},
     "output_type": "display_data"
    },
    {
     "data": {
      "image/png": "[encoded data removed]",
      "text/plain": [
       "<Figure size 1296x432 with 1 Axes>"
      ]
     },
     "metadata": {},
     "output_type": "display_data"
    },
    {
     "data": {
      "image/png": "[encoded data removed]",
      "text/plain": [
       "<Figure size 1296x432 with 1 Axes>"
      ]
     },
     "metadata": {},
     "output_type": "display_data"
    },
    {
     "data": {
      "image/png": "[encoded data removed]",
      "text/plain": [
       "<Figure size 1296x432 with 1 Axes>"
      ]
     },
     "metadata": {},
     "output_type": "display_data"
    }
   ],
   "source": [
    "for tv_weight in [1e-3, 1e-2, 1e-1, 1, 10]:\n",
    "    # Lets turn off verbose output this time to avoid clutter and just see the output.\n",
    "    img = visualize_activation(model, layer_idx, filter_indices=filter_idx, input_range=(0., 1.), \n",
    "                               tv_weight=tv_weight, lp_norm_weight=0.)\n",
    "    plt.figure()\n",
    "    plt.imshow(img[..., 0])"
   ]
  },
  {
   "cell_type": "markdown",
   "metadata": {
    "collapsed": true
   },
   "source": [
    "Here we can see that the default weight for Total Variation = 10 is the optimal choice. So we keep it for the rest of the 9 nodes input."
   ]
  },
  {
   "cell_type": "code",
   "execution_count": 14,
   "metadata": {},
   "outputs": [
    {
     "data": {
      "image/png": "[encoded data removed]",
      "text/plain": [
       "<Figure size 1296x432 with 1 Axes>"
      ]
     },
     "metadata": {},
     "output_type": "display_data"
    },
    {
     "data": {
      "image/png": "[encoded data removed]",
      "text/plain": [
       "<Figure size 1296x432 with 1 Axes>"
      ]
     },
     "metadata": {},
     "output_type": "display_data"
    },
    {
     "data": {
      "image/png": "[encoded data removed]",
      "text/plain": [
       "<Figure size 1296x432 with 1 Axes>"
      ]
     },
     "metadata": {},
     "output_type": "display_data"
    },
    {
     "data": {
      "image/png": "[encoded data removed]",
      "text/plain": [
       "<Figure size 1296x432 with 1 Axes>"
      ]
     },
     "metadata": {},
     "output_type": "display_data"
    },
    {
     "data": {
      "image/png": "[encoded data removed]",
      "text/plain": [
       "<Figure size 1296x432 with 1 Axes>"
      ]
     },
     "metadata": {},
     "output_type": "display_data"
    },
    {
     "data": {
      "image/png": "[encoded data removed]",
      "text/plain": [
       "<Figure size 1296x432 with 1 Axes>"
      ]
     },
     "metadata": {},
     "output_type": "display_data"
    },
    {
     "data": {
      "image/png": "[encoded data removed]",
      "text/plain": [
       "<Figure size 1296x432 with 1 Axes>"
      ]
     },
     "metadata": {},
     "output_type": "display_data"
    },
    {
     "data": {
      "image/png": "[encoded data removed]",
      "text/plain": [
       "<Figure size 1296x432 with 1 Axes>"
      ]
     },
     "metadata": {},
     "output_type": "display_data"
    },
    {
     "data": {
      "image/png": "[encoded data removed]",
      "text/plain": [
       "<Figure size 1296x432 with 1 Axes>"
      ]
     },
     "metadata": {},
     "output_type": "display_data"
    },
    {
     "data": {
      "image/png": "[encoded data removed]",
      "text/plain": [
       "<Figure size 1296x432 with 1 Axes>"
      ]
     },
     "metadata": {},
     "output_type": "display_data"
    }
   ],
   "source": [
    "for output_idx in np.arange(10):\n",
    "    # Lets turn off verbose output this time to avoid clutter and just see the output.\n",
    "    img = visualize_activation(model, layer_idx, filter_indices=output_idx, input_range=(0., 1.))\n",
    "    plt.figure()\n",
    "    plt.title('Networks perception of {}'.format(output_idx))\n",
    "    plt.imshow(img[..., 0])"
   ]
  },
  {
   "cell_type": "markdown",
   "metadata": {
    "collapsed": true
   },
   "source": [
    "Here we can see that activation maximized input images can still be recognized to what it originally looks like. "
   ]
  }
 ],
 "metadata": {
  "kernelspec": {
   "display_name": "Python 3",
   "language": "python",
   "name": "python3"
  },
  "language_info": {
   "codemirror_mode": {
    "name": "ipython",
    "version": 3
   },
   "file_extension": ".py",
   "mimetype": "text/x-python",
   "name": "python",
   "nbconvert_exporter": "python",
   "pygments_lexer": "ipython3",
   "version": "3.6.3"
  }
 },
 "nbformat": 4,
 "nbformat_minor": 2
}
